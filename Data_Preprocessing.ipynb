{
 "cells": [
  {
   "cell_type": "code",
   "execution_count": 2,
   "metadata": {},
   "outputs": [],
   "source": [
    "import numpy as np\n",
    "import pandas as pd\n",
    "import matplotlib.pyplot as plt"
   ]
  },
  {
   "cell_type": "markdown",
   "metadata": {},
   "source": [
    "1. Write python code for Entropy based discretization, given the data set \"BankAssests\""
   ]
  },
  {
   "cell_type": "code",
   "execution_count": 63,
   "metadata": {},
   "outputs": [
    {
     "data": {
      "text/html": [
       "<div>\n",
       "<style scoped>\n",
       "    .dataframe tbody tr th:only-of-type {\n",
       "        vertical-align: middle;\n",
       "    }\n",
       "\n",
       "    .dataframe tbody tr th {\n",
       "        vertical-align: top;\n",
       "    }\n",
       "\n",
       "    .dataframe thead th {\n",
       "        text-align: right;\n",
       "    }\n",
       "</style>\n",
       "<table border=\"1\" class=\"dataframe\">\n",
       "  <thead>\n",
       "    <tr style=\"text-align: right;\">\n",
       "      <th></th>\n",
       "      <th>Category</th>\n",
       "      <th>Line Item</th>\n",
       "      <th>Fiscal Year</th>\n",
       "      <th>Amount (US$, Millions)</th>\n",
       "      <th>dataDiscretization</th>\n",
       "    </tr>\n",
       "  </thead>\n",
       "  <tbody>\n",
       "    <tr>\n",
       "      <th>0</th>\n",
       "      <td>Assets</td>\n",
       "      <td>Due from Banks - Unrestricted currencies</td>\n",
       "      <td>2010</td>\n",
       "      <td>1581.0</td>\n",
       "      <td>Poor</td>\n",
       "    </tr>\n",
       "    <tr>\n",
       "      <th>1</th>\n",
       "      <td>Assets</td>\n",
       "      <td>Due from Banks - Unrestricted currencies</td>\n",
       "      <td>2009</td>\n",
       "      <td>2380.0</td>\n",
       "      <td>Poor</td>\n",
       "    </tr>\n",
       "    <tr>\n",
       "      <th>2</th>\n",
       "      <td>Assets</td>\n",
       "      <td>Due from Banks - Currencies subject to restric...</td>\n",
       "      <td>2010</td>\n",
       "      <td>222.0</td>\n",
       "      <td>Poor</td>\n",
       "    </tr>\n",
       "    <tr>\n",
       "      <th>3</th>\n",
       "      <td>Assets</td>\n",
       "      <td>Due from Banks - Currencies subject to restric...</td>\n",
       "      <td>2009</td>\n",
       "      <td>664.0</td>\n",
       "      <td>Poor</td>\n",
       "    </tr>\n",
       "    <tr>\n",
       "      <th>4</th>\n",
       "      <td>Assets</td>\n",
       "      <td>Investments - Trading</td>\n",
       "      <td>2010</td>\n",
       "      <td>36012.0</td>\n",
       "      <td>Below_average</td>\n",
       "    </tr>\n",
       "  </tbody>\n",
       "</table>\n",
       "</div>"
      ],
      "text/plain": [
       "  Category                                          Line Item  Fiscal Year  \\\n",
       "0   Assets           Due from Banks - Unrestricted currencies         2010   \n",
       "1   Assets           Due from Banks - Unrestricted currencies         2009   \n",
       "2   Assets  Due from Banks - Currencies subject to restric...         2010   \n",
       "3   Assets  Due from Banks - Currencies subject to restric...         2009   \n",
       "4   Assets                              Investments - Trading         2010   \n",
       "\n",
       "   Amount (US$, Millions) dataDiscretization  \n",
       "0                  1581.0               Poor  \n",
       "1                  2380.0               Poor  \n",
       "2                   222.0               Poor  \n",
       "3                   664.0               Poor  \n",
       "4                 36012.0      Below_average  "
      ]
     },
     "execution_count": 63,
     "metadata": {},
     "output_type": "execute_result"
    }
   ],
   "source": [
    "df = pd.read_csv('IBRD_Balance_Sheet__FY2010 - IBRD_Balance_Sheet__FY2010.csv')\n",
    "df['dataDiscretization']=pd.cut(df['Amount (US$, Millions)'],5,labels=['Poor','Below_average','Average','Above_Average','Excellent'])\n",
    "df.head()"
   ]
  },
  {
   "cell_type": "code",
   "execution_count": 3,
   "metadata": {},
   "outputs": [
    {
     "data": {
      "text/plain": [
       "array([-85,   2,   5,  10,  15,  20,  25,  30,  35,  40,  40,  45,  50,\n",
       "        55,  60, 125])"
      ]
     },
     "execution_count": 3,
     "metadata": {},
     "output_type": "execute_result"
    }
   ],
   "source": [
    "data = [2,5,10,20,40,25,30,60,40,50,55, 15,35,125,45,-85]\n",
    "sorted_data = np.sort(data)\n",
    "sorted_data"
   ]
  },
  {
   "cell_type": "markdown",
   "metadata": {},
   "source": [
    "2. Write python code to count number of missing values, replace missing values with median of that variable, find the outlier/noisy data, and replace it with last value of the corresponding variable"
   ]
  },
  {
   "cell_type": "code",
   "execution_count": 4,
   "metadata": {},
   "outputs": [
    {
     "data": {
      "text/plain": [
       "Category                  0\n",
       "Line Item                 0\n",
       "Fiscal Year               0\n",
       "Amount (US$, Millions)    1\n",
       "dtype: int64"
      ]
     },
     "execution_count": 4,
     "metadata": {},
     "output_type": "execute_result"
    }
   ],
   "source": [
    "dat = pd.read_csv(\"IBRD_Balance_Sheet__FY2010 - IBRD_Balance_Sheet__FY2010.csv\")\n",
    "dat.isnull().sum()"
   ]
  },
  {
   "cell_type": "code",
   "execution_count": 5,
   "metadata": {},
   "outputs": [
    {
     "data": {
      "text/plain": [
       "Category                  0\n",
       "Line Item                 0\n",
       "Fiscal Year               0\n",
       "Amount (US$, Millions)    0\n",
       "dtype: int64"
      ]
     },
     "execution_count": 5,
     "metadata": {},
     "output_type": "execute_result"
    }
   ],
   "source": [
    "dat['Amount (US$, Millions)'] = dat['Amount (US$, Millions)'].fillna(value = dat['Amount (US$, Millions)'].median())\n",
    "dat.isnull().sum()"
   ]
  },
  {
   "cell_type": "code",
   "execution_count": 6,
   "metadata": {},
   "outputs": [
    {
     "data": {
      "text/html": [
       "<div>\n",
       "<style scoped>\n",
       "    .dataframe tbody tr th:only-of-type {\n",
       "        vertical-align: middle;\n",
       "    }\n",
       "\n",
       "    .dataframe tbody tr th {\n",
       "        vertical-align: top;\n",
       "    }\n",
       "\n",
       "    .dataframe thead th {\n",
       "        text-align: right;\n",
       "    }\n",
       "</style>\n",
       "<table border=\"1\" class=\"dataframe\">\n",
       "  <thead>\n",
       "    <tr style=\"text-align: right;\">\n",
       "      <th></th>\n",
       "      <th>Fiscal Year</th>\n",
       "      <th>Amount (US$, Millions)</th>\n",
       "    </tr>\n",
       "  </thead>\n",
       "  <tbody>\n",
       "    <tr>\n",
       "      <th>count</th>\n",
       "      <td>62.000000</td>\n",
       "      <td>62.000000</td>\n",
       "    </tr>\n",
       "    <tr>\n",
       "      <th>mean</th>\n",
       "      <td>2009.500000</td>\n",
       "      <td>18039.370968</td>\n",
       "    </tr>\n",
       "    <tr>\n",
       "      <th>std</th>\n",
       "      <td>0.504082</td>\n",
       "      <td>33181.875716</td>\n",
       "    </tr>\n",
       "    <tr>\n",
       "      <th>min</th>\n",
       "      <td>2009.000000</td>\n",
       "      <td>-3043.000000</td>\n",
       "    </tr>\n",
       "    <tr>\n",
       "      <th>25%</th>\n",
       "      <td>2009.000000</td>\n",
       "      <td>627.500000</td>\n",
       "    </tr>\n",
       "    <tr>\n",
       "      <th>50%</th>\n",
       "      <td>2009.500000</td>\n",
       "      <td>1581.000000</td>\n",
       "    </tr>\n",
       "    <tr>\n",
       "      <th>75%</th>\n",
       "      <td>2010.000000</td>\n",
       "      <td>18258.500000</td>\n",
       "    </tr>\n",
       "    <tr>\n",
       "      <th>max</th>\n",
       "      <td>2010.000000</td>\n",
       "      <td>128577.000000</td>\n",
       "    </tr>\n",
       "  </tbody>\n",
       "</table>\n",
       "</div>"
      ],
      "text/plain": [
       "       Fiscal Year  Amount (US$, Millions)\n",
       "count    62.000000               62.000000\n",
       "mean   2009.500000            18039.370968\n",
       "std       0.504082            33181.875716\n",
       "min    2009.000000            -3043.000000\n",
       "25%    2009.000000              627.500000\n",
       "50%    2009.500000             1581.000000\n",
       "75%    2010.000000            18258.500000\n",
       "max    2010.000000           128577.000000"
      ]
     },
     "execution_count": 6,
     "metadata": {},
     "output_type": "execute_result"
    }
   ],
   "source": [
    "dat.describe()"
   ]
  },
  {
   "cell_type": "code",
   "execution_count": 7,
   "metadata": {},
   "outputs": [
    {
     "name": "stdout",
     "output_type": "stream",
     "text": [
      "-25819.0 44705.0\n"
     ]
    }
   ],
   "source": [
    "q1 = dat['Amount (US$, Millions)'].quantile(0.25)\n",
    "q3 = dat['Amount (US$, Millions)'].quantile(0.75)\n",
    "IQR = q3-q1\n",
    "lower = q1 - 1.5*IQR\n",
    "upper = q3 + 1.5*IQR\n",
    "print(lower,upper)"
   ]
  },
  {
   "cell_type": "code",
   "execution_count": 8,
   "metadata": {},
   "outputs": [
    {
     "data": {
      "text/html": [
       "<div>\n",
       "<style scoped>\n",
       "    .dataframe tbody tr th:only-of-type {\n",
       "        vertical-align: middle;\n",
       "    }\n",
       "\n",
       "    .dataframe tbody tr th {\n",
       "        vertical-align: top;\n",
       "    }\n",
       "\n",
       "    .dataframe thead th {\n",
       "        text-align: right;\n",
       "    }\n",
       "</style>\n",
       "<table border=\"1\" class=\"dataframe\">\n",
       "  <thead>\n",
       "    <tr style=\"text-align: right;\">\n",
       "      <th></th>\n",
       "      <th>Category</th>\n",
       "      <th>Line Item</th>\n",
       "      <th>Fiscal Year</th>\n",
       "      <th>Amount (US$, Millions)</th>\n",
       "    </tr>\n",
       "  </thead>\n",
       "  <tbody>\n",
       "    <tr>\n",
       "      <th>14</th>\n",
       "      <td>Assets</td>\n",
       "      <td>Derivative Assets - Borrowings</td>\n",
       "      <td>2010</td>\n",
       "      <td>87457.0</td>\n",
       "    </tr>\n",
       "    <tr>\n",
       "      <th>15</th>\n",
       "      <td>Assets</td>\n",
       "      <td>Derivative Assets - Borrowings</td>\n",
       "      <td>2009</td>\n",
       "      <td>82793.0</td>\n",
       "    </tr>\n",
       "    <tr>\n",
       "      <th>24</th>\n",
       "      <td>Assets</td>\n",
       "      <td>Loans Outstanding - Net loans outstanding</td>\n",
       "      <td>2010</td>\n",
       "      <td>118104.0</td>\n",
       "    </tr>\n",
       "    <tr>\n",
       "      <th>25</th>\n",
       "      <td>Assets</td>\n",
       "      <td>Loans Outstanding - Net loans outstanding</td>\n",
       "      <td>2009</td>\n",
       "      <td>103657.0</td>\n",
       "    </tr>\n",
       "    <tr>\n",
       "      <th>32</th>\n",
       "      <td>Liabilities</td>\n",
       "      <td>Borrowings</td>\n",
       "      <td>2010</td>\n",
       "      <td>128577.0</td>\n",
       "    </tr>\n",
       "    <tr>\n",
       "      <th>33</th>\n",
       "      <td>Liabilities</td>\n",
       "      <td>Borrowings</td>\n",
       "      <td>2009</td>\n",
       "      <td>110040.0</td>\n",
       "    </tr>\n",
       "    <tr>\n",
       "      <th>40</th>\n",
       "      <td>Liabilities</td>\n",
       "      <td>Derivative Liabilities  - Borrowings</td>\n",
       "      <td>2010</td>\n",
       "      <td>78655.0</td>\n",
       "    </tr>\n",
       "    <tr>\n",
       "      <th>41</th>\n",
       "      <td>Liabilities</td>\n",
       "      <td>Derivative Liabilities  - Borrowings</td>\n",
       "      <td>2009</td>\n",
       "      <td>76321.0</td>\n",
       "    </tr>\n",
       "  </tbody>\n",
       "</table>\n",
       "</div>"
      ],
      "text/plain": [
       "       Category                                  Line Item  Fiscal Year  \\\n",
       "14       Assets             Derivative Assets - Borrowings         2010   \n",
       "15       Assets             Derivative Assets - Borrowings         2009   \n",
       "24       Assets  Loans Outstanding - Net loans outstanding         2010   \n",
       "25       Assets  Loans Outstanding - Net loans outstanding         2009   \n",
       "32  Liabilities                                 Borrowings         2010   \n",
       "33  Liabilities                                 Borrowings         2009   \n",
       "40  Liabilities       Derivative Liabilities  - Borrowings         2010   \n",
       "41  Liabilities       Derivative Liabilities  - Borrowings         2009   \n",
       "\n",
       "    Amount (US$, Millions)  \n",
       "14                 87457.0  \n",
       "15                 82793.0  \n",
       "24                118104.0  \n",
       "25                103657.0  \n",
       "32                128577.0  \n",
       "33                110040.0  \n",
       "40                 78655.0  \n",
       "41                 76321.0  "
      ]
     },
     "execution_count": 8,
     "metadata": {},
     "output_type": "execute_result"
    }
   ],
   "source": [
    "#outliers\n",
    "dat[dat['Amount (US$, Millions)'] < lower]\n",
    "dat[dat['Amount (US$, Millions)'] > upper]\n",
    "dat[(dat['Amount (US$, Millions)'] < lower) | (dat['Amount (US$, Millions)'] > upper)]"
   ]
  },
  {
   "cell_type": "code",
   "execution_count": 9,
   "metadata": {},
   "outputs": [
    {
     "data": {
      "text/html": [
       "<div>\n",
       "<style scoped>\n",
       "    .dataframe tbody tr th:only-of-type {\n",
       "        vertical-align: middle;\n",
       "    }\n",
       "\n",
       "    .dataframe tbody tr th {\n",
       "        vertical-align: top;\n",
       "    }\n",
       "\n",
       "    .dataframe thead th {\n",
       "        text-align: right;\n",
       "    }\n",
       "</style>\n",
       "<table border=\"1\" class=\"dataframe\">\n",
       "  <thead>\n",
       "    <tr style=\"text-align: right;\">\n",
       "      <th></th>\n",
       "      <th>Category</th>\n",
       "      <th>Line Item</th>\n",
       "      <th>Fiscal Year</th>\n",
       "      <th>Amount (US$, Millions)</th>\n",
       "    </tr>\n",
       "  </thead>\n",
       "  <tbody>\n",
       "  </tbody>\n",
       "</table>\n",
       "</div>"
      ],
      "text/plain": [
       "Empty DataFrame\n",
       "Columns: [Category, Line Item, Fiscal Year, Amount (US$, Millions)]\n",
       "Index: []"
      ]
     },
     "execution_count": 9,
     "metadata": {},
     "output_type": "execute_result"
    }
   ],
   "source": [
    "#without outliers\n",
    "new_dat = dat[(dat['Amount (US$, Millions)'] > lower) & (dat['Amount (US$, Millions)'] < upper)]\n",
    "#checking if any outliers\n",
    "new_dat[(new_dat['Amount (US$, Millions)'] < lower) | (new_dat['Amount (US$, Millions)']> upper)]"
   ]
  },
  {
   "cell_type": "code",
   "execution_count": 10,
   "metadata": {},
   "outputs": [
    {
     "data": {
      "image/png": "[encoded data removed]",
      "text/plain": [
       "<Figure size 432x288 with 1 Axes>"
      ]
     },
     "metadata": {
      "needs_background": "light"
     },
     "output_type": "display_data"
    }
   ],
   "source": [
    "plt.hist(new_dat['Amount (US$, Millions)'] , rwidth = 0.8)\n",
    "plt.xlabel('Amount (US$, Millions)')\n",
    "plt.ylabel('Count of values')\n",
    "plt.show()"
   ]
  },
  {
   "cell_type": "markdown",
   "metadata": {},
   "source": [
    "3. Write python code for stratified sampling, get 30 % of sample from each category from the  Data set \"Wheather_Hyd\"."
   ]
  },
  {
   "cell_type": "code",
   "execution_count": 11,
   "metadata": {},
   "outputs": [],
   "source": [
    "from sklearn.preprocessing import LabelEncoder\n",
    "from sklearn.model_selection import train_test_split"
   ]
  },
  {
   "cell_type": "code",
   "execution_count": 12,
   "metadata": {},
   "outputs": [
    {
     "data": {
      "text/html": [
       "<div>\n",
       "<style scoped>\n",
       "    .dataframe tbody tr th:only-of-type {\n",
       "        vertical-align: middle;\n",
       "    }\n",
       "\n",
       "    .dataframe tbody tr th {\n",
       "        vertical-align: top;\n",
       "    }\n",
       "\n",
       "    .dataframe thead th {\n",
       "        text-align: right;\n",
       "    }\n",
       "</style>\n",
       "<table border=\"1\" class=\"dataframe\">\n",
       "  <thead>\n",
       "    <tr style=\"text-align: right;\">\n",
       "      <th></th>\n",
       "      <th>Temp_high</th>\n",
       "      <th>Temp_avg</th>\n",
       "      <th>Temp_low</th>\n",
       "      <th>Dew_High</th>\n",
       "      <th>Dew_Avg</th>\n",
       "      <th>Dew_low</th>\n",
       "      <th>Hum_high</th>\n",
       "      <th>Hum_avg</th>\n",
       "      <th>Hum_low</th>\n",
       "      <th>Sea_high</th>\n",
       "      <th>...</th>\n",
       "      <th>Visib_high</th>\n",
       "      <th>Visib_avg</th>\n",
       "      <th>Visib_low</th>\n",
       "      <th>Wind_high</th>\n",
       "      <th>Wind_avg</th>\n",
       "      <th>Preci_High</th>\n",
       "      <th>Preci_sum</th>\n",
       "      <th>event</th>\n",
       "      <th>month</th>\n",
       "      <th>year</th>\n",
       "    </tr>\n",
       "  </thead>\n",
       "  <tbody>\n",
       "    <tr>\n",
       "      <th>0</th>\n",
       "      <td>39</td>\n",
       "      <td>33</td>\n",
       "      <td>27</td>\n",
       "      <td>21</td>\n",
       "      <td>16</td>\n",
       "      <td>10</td>\n",
       "      <td>70</td>\n",
       "      <td>40</td>\n",
       "      <td>17</td>\n",
       "      <td>1012</td>\n",
       "      <td>...</td>\n",
       "      <td>8</td>\n",
       "      <td>5</td>\n",
       "      <td>3</td>\n",
       "      <td>24</td>\n",
       "      <td>16</td>\n",
       "      <td>-</td>\n",
       "      <td>0.0</td>\n",
       "      <td>Rain , Thunderstorm</td>\n",
       "      <td>June</td>\n",
       "      <td>2010</td>\n",
       "    </tr>\n",
       "    <tr>\n",
       "      <th>1</th>\n",
       "      <td>36</td>\n",
       "      <td>31</td>\n",
       "      <td>26</td>\n",
       "      <td>17</td>\n",
       "      <td>14</td>\n",
       "      <td>12</td>\n",
       "      <td>57</td>\n",
       "      <td>35</td>\n",
       "      <td>25</td>\n",
       "      <td>1014</td>\n",
       "      <td>...</td>\n",
       "      <td>5</td>\n",
       "      <td>5</td>\n",
       "      <td>3</td>\n",
       "      <td>24</td>\n",
       "      <td>16</td>\n",
       "      <td>-</td>\n",
       "      <td>0.0</td>\n",
       "      <td>Normal</td>\n",
       "      <td>June</td>\n",
       "      <td>2010</td>\n",
       "    </tr>\n",
       "    <tr>\n",
       "      <th>2</th>\n",
       "      <td>38</td>\n",
       "      <td>32</td>\n",
       "      <td>27</td>\n",
       "      <td>17</td>\n",
       "      <td>14</td>\n",
       "      <td>11</td>\n",
       "      <td>54</td>\n",
       "      <td>34</td>\n",
       "      <td>20</td>\n",
       "      <td>1014</td>\n",
       "      <td>...</td>\n",
       "      <td>7</td>\n",
       "      <td>6</td>\n",
       "      <td>3</td>\n",
       "      <td>24</td>\n",
       "      <td>13</td>\n",
       "      <td>-</td>\n",
       "      <td>0.0</td>\n",
       "      <td>Normal</td>\n",
       "      <td>June</td>\n",
       "      <td>2010</td>\n",
       "    </tr>\n",
       "    <tr>\n",
       "      <th>3</th>\n",
       "      <td>38</td>\n",
       "      <td>33</td>\n",
       "      <td>29</td>\n",
       "      <td>18</td>\n",
       "      <td>14</td>\n",
       "      <td>10</td>\n",
       "      <td>48</td>\n",
       "      <td>30</td>\n",
       "      <td>18</td>\n",
       "      <td>1013</td>\n",
       "      <td>...</td>\n",
       "      <td>8</td>\n",
       "      <td>6</td>\n",
       "      <td>3</td>\n",
       "      <td>21</td>\n",
       "      <td>16</td>\n",
       "      <td>-</td>\n",
       "      <td>0.0</td>\n",
       "      <td>Normal</td>\n",
       "      <td>June</td>\n",
       "      <td>2010</td>\n",
       "    </tr>\n",
       "    <tr>\n",
       "      <th>4</th>\n",
       "      <td>37</td>\n",
       "      <td>33</td>\n",
       "      <td>30</td>\n",
       "      <td>15</td>\n",
       "      <td>13</td>\n",
       "      <td>11</td>\n",
       "      <td>37</td>\n",
       "      <td>28</td>\n",
       "      <td>21</td>\n",
       "      <td>1012</td>\n",
       "      <td>...</td>\n",
       "      <td>8</td>\n",
       "      <td>7</td>\n",
       "      <td>3</td>\n",
       "      <td>26</td>\n",
       "      <td>16</td>\n",
       "      <td>-</td>\n",
       "      <td>0.0</td>\n",
       "      <td>Normal</td>\n",
       "      <td>June</td>\n",
       "      <td>2010</td>\n",
       "    </tr>\n",
       "  </tbody>\n",
       "</table>\n",
       "<p>5 rows × 22 columns</p>\n",
       "</div>"
      ],
      "text/plain": [
       "   Temp_high  Temp_avg  Temp_low  Dew_High  Dew_Avg  Dew_low  Hum_high  \\\n",
       "0         39        33        27        21       16       10        70   \n",
       "1         36        31        26        17       14       12        57   \n",
       "2         38        32        27        17       14       11        54   \n",
       "3         38        33        29        18       14       10        48   \n",
       "4         37        33        30        15       13       11        37   \n",
       "\n",
       "   Hum_avg  Hum_low  Sea_high  ...  Visib_high  Visib_avg  Visib_low  \\\n",
       "0       40       17      1012  ...           8          5          3   \n",
       "1       35       25      1014  ...           5          5          3   \n",
       "2       34       20      1014  ...           7          6          3   \n",
       "3       30       18      1013  ...           8          6          3   \n",
       "4       28       21      1012  ...           8          7          3   \n",
       "\n",
       "   Wind_high  Wind_avg  Preci_High  Preci_sum                event  month  \\\n",
       "0         24        16           -        0.0  Rain , Thunderstorm   June   \n",
       "1         24        16           -        0.0               Normal   June   \n",
       "2         24        13           -        0.0               Normal   June   \n",
       "3         21        16           -        0.0               Normal   June   \n",
       "4         26        16           -        0.0               Normal   June   \n",
       "\n",
       "   year  \n",
       "0  2010  \n",
       "1  2010  \n",
       "2  2010  \n",
       "3  2010  \n",
       "4  2010  \n",
       "\n",
       "[5 rows x 22 columns]"
      ]
     },
     "execution_count": 12,
     "metadata": {},
     "output_type": "execute_result"
    }
   ],
   "source": [
    "weather = pd.read_csv('Hyderabad_June_weather.csv')\n",
    "weather.head()"
   ]
  },
  {
   "cell_type": "code",
   "execution_count": 13,
   "metadata": {},
   "outputs": [
    {
     "data": {
      "text/plain": [
       "0    168\n",
       "2     38\n",
       "1     27\n",
       "Name: event_label, dtype: int64"
      ]
     },
     "execution_count": 13,
     "metadata": {},
     "output_type": "execute_result"
    }
   ],
   "source": [
    "weather['event_label'] = LabelEncoder().fit_transform(weather['event'])\n",
    "weather['event_label'].value_counts()"
   ]
  },
  {
   "cell_type": "code",
   "execution_count": 14,
   "metadata": {},
   "outputs": [],
   "source": [
    "x = weather.drop(['event','event_label'],axis = 'columns')\n",
    "y = weather['event_label']\n",
    "x_t , x_te , y_t , y_te = train_test_split(x, y,test_size = 0.3, random_state=15,stratify = y)"
   ]
  },
  {
   "cell_type": "markdown",
   "metadata": {},
   "source": [
    "4. Write python code to apply data transformation to whichever attributes needed for, and apply PCA for dimenstinality reduction on the  Data set \"Wheather_Hyd\"."
   ]
  },
  {
   "cell_type": "code",
   "execution_count": 50,
   "metadata": {},
   "outputs": [],
   "source": [
    "data_pca = pd.read_csv('Hyderabad_June_weather.csv')\n",
    "data_pca = data_pca.drop(['Preci_High','Preci_sum','event','month','year'],axis=1)\n",
    "from sklearn.preprocessing import StandardScaler\n",
    "data_scaled = StandardScaler().fit_transform(data_pca)"
   ]
  },
  {
   "cell_type": "code",
   "execution_count": 60,
   "metadata": {},
   "outputs": [
    {
     "data": {
      "text/plain": [
       "(233, 2)"
      ]
     },
     "execution_count": 60,
     "metadata": {},
     "output_type": "execute_result"
    }
   ],
   "source": [
    "from sklearn.decomposition import PCA\n",
    "pca = PCA(n_components = 2)\n",
    "final_data = pca.fit_transform(data_pca)\n",
    "final_data.shape"
   ]
  },
  {
   "cell_type": "markdown",
   "metadata": {},
   "source": [
    "5. Write python code to handle the noisy data given below, using binning method (smooth by means, median, boundary), and kmean clustering."
   ]
  },
  {
   "cell_type": "code",
   "execution_count": 16,
   "metadata": {},
   "outputs": [],
   "source": [
    "after_bin = np.zeros((4,4),dtype = float)"
   ]
  },
  {
   "cell_type": "markdown",
   "metadata": {},
   "source": [
    "Binning by means"
   ]
  },
  {
   "cell_type": "code",
   "execution_count": 17,
   "metadata": {},
   "outputs": [
    {
     "name": "stdout",
     "output_type": "stream",
     "text": [
      "[[-17.  -17.  -17.  -17. ]\n",
      " [ 22.5  22.5  22.5  22.5]\n",
      " [ 40.   40.   40.   40. ]\n",
      " [ 72.5  72.5  72.5  72.5]]\n"
     ]
    }
   ],
   "source": [
    "for i in range(0,16,4):\n",
    "    k = i//4\n",
    "    mean = np.mean(sorted_data[i:i+4])\n",
    "    for j in range(4):\n",
    "        after_bin[k][j] = mean\n",
    "print(after_bin)"
   ]
  },
  {
   "cell_type": "markdown",
   "metadata": {},
   "source": [
    "Binning by median"
   ]
  },
  {
   "cell_type": "code",
   "execution_count": 18,
   "metadata": {},
   "outputs": [
    {
     "name": "stdout",
     "output_type": "stream",
     "text": [
      "[[ 3.5  3.5  3.5  3.5]\n",
      " [22.5 22.5 22.5 22.5]\n",
      " [40.  40.  40.  40. ]\n",
      " [57.5 57.5 57.5 57.5]]\n"
     ]
    }
   ],
   "source": [
    "for i in range(0,16,4):\n",
    "    k = i//4\n",
    "    mean = np.median(sorted_data[i:i+4])\n",
    "    for j in range(4):\n",
    "        after_bin[k][j] = mean\n",
    "print(after_bin)"
   ]
  },
  {
   "cell_type": "markdown",
   "metadata": {},
   "source": [
    "Binning by boundaries"
   ]
  },
  {
   "cell_type": "code",
   "execution_count": 19,
   "metadata": {},
   "outputs": [
    {
     "name": "stdout",
     "output_type": "stream",
     "text": [
      "[[-85.  10.  10.  10.]\n",
      " [ 15.  15.  30.  30.]\n",
      " [ 35.  45.  45.  45.]\n",
      " [ 50.  50.  50. 125.]]\n"
     ]
    }
   ],
   "source": [
    "for i in range(0,16,4):\n",
    "    k = i//4\n",
    "    for j in range(4):\n",
    "        if (sorted_data[i+j] - sorted_data[i] < sorted_data[i+3] - sorted_data[i+j]):\n",
    "            after_bin[k][j] = sorted_data[i]\n",
    "        else:\n",
    "            after_bin[k][j] = sorted_data[i+3]\n",
    "print(after_bin)"
   ]
  },
  {
   "cell_type": "markdown",
   "metadata": {},
   "source": [
    "Handling noisy data by kmeans clustering"
   ]
  },
  {
   "cell_type": "code",
   "execution_count": 20,
   "metadata": {},
   "outputs": [
    {
     "data": {
      "image/png": "[encoded data removed]",
      "text/plain": [
       "<Figure size 432x288 with 1 Axes>"
      ]
     },
     "metadata": {
      "needs_background": "light"
     },
     "output_type": "display_data"
    }
   ],
   "source": [
    "from sklearn.cluster import KMeans\n",
    "import matplotlib.pyplot as plt\n",
    "data_frame = pd.DataFrame()\n",
    "data_frame['data'] = sorted_data\n",
    "lis = np.array(range(16))\n",
    "data_frame['count'] = lis\n",
    "data_frame.head()\n",
    "plt.scatter(data_frame['count'],data_frame['data'])\n",
    "plt.show()"
   ]
  },
  {
   "cell_type": "code",
   "execution_count": 21,
   "metadata": {},
   "outputs": [
    {
     "data": {
      "text/html": [
       "<div>\n",
       "<style scoped>\n",
       "    .dataframe tbody tr th:only-of-type {\n",
       "        vertical-align: middle;\n",
       "    }\n",
       "\n",
       "    .dataframe tbody tr th {\n",
       "        vertical-align: top;\n",
       "    }\n",
       "\n",
       "    .dataframe thead th {\n",
       "        text-align: right;\n",
       "    }\n",
       "</style>\n",
       "<table border=\"1\" class=\"dataframe\">\n",
       "  <thead>\n",
       "    <tr style=\"text-align: right;\">\n",
       "      <th></th>\n",
       "      <th>data</th>\n",
       "      <th>count</th>\n",
       "      <th>cluster</th>\n",
       "    </tr>\n",
       "  </thead>\n",
       "  <tbody>\n",
       "    <tr>\n",
       "      <th>0</th>\n",
       "      <td>-85</td>\n",
       "      <td>0</td>\n",
       "      <td>2</td>\n",
       "    </tr>\n",
       "    <tr>\n",
       "      <th>1</th>\n",
       "      <td>2</td>\n",
       "      <td>1</td>\n",
       "      <td>0</td>\n",
       "    </tr>\n",
       "    <tr>\n",
       "      <th>2</th>\n",
       "      <td>5</td>\n",
       "      <td>2</td>\n",
       "      <td>0</td>\n",
       "    </tr>\n",
       "    <tr>\n",
       "      <th>3</th>\n",
       "      <td>10</td>\n",
       "      <td>3</td>\n",
       "      <td>0</td>\n",
       "    </tr>\n",
       "    <tr>\n",
       "      <th>4</th>\n",
       "      <td>15</td>\n",
       "      <td>4</td>\n",
       "      <td>0</td>\n",
       "    </tr>\n",
       "  </tbody>\n",
       "</table>\n",
       "</div>"
      ],
      "text/plain": [
       "   data  count  cluster\n",
       "0   -85      0        2\n",
       "1     2      1        0\n",
       "2     5      2        0\n",
       "3    10      3        0\n",
       "4    15      4        0"
      ]
     },
     "execution_count": 21,
     "metadata": {},
     "output_type": "execute_result"
    }
   ],
   "source": [
    "sorted_data = np.asarray(sorted_data)\n",
    "alg = KMeans(n_clusters = 3).fit(sorted_data.reshape(-1,1))\n",
    "labels = alg.predict(sorted_data.reshape(-1,1))\n",
    "data_frame['cluster'] = labels\n",
    "data_frame.head()"
   ]
  },
  {
   "cell_type": "code",
   "execution_count": 22,
   "metadata": {},
   "outputs": [
    {
     "data": {
      "text/html": [
       "<div>\n",
       "<style scoped>\n",
       "    .dataframe tbody tr th:only-of-type {\n",
       "        vertical-align: middle;\n",
       "    }\n",
       "\n",
       "    .dataframe tbody tr th {\n",
       "        vertical-align: top;\n",
       "    }\n",
       "\n",
       "    .dataframe thead th {\n",
       "        text-align: right;\n",
       "    }\n",
       "</style>\n",
       "<table border=\"1\" class=\"dataframe\">\n",
       "  <thead>\n",
       "    <tr style=\"text-align: right;\">\n",
       "      <th></th>\n",
       "      <th>data</th>\n",
       "      <th>count</th>\n",
       "      <th>cluster</th>\n",
       "    </tr>\n",
       "  </thead>\n",
       "  <tbody>\n",
       "    <tr>\n",
       "      <th>0</th>\n",
       "      <td>-85</td>\n",
       "      <td>0</td>\n",
       "      <td>2</td>\n",
       "    </tr>\n",
       "  </tbody>\n",
       "</table>\n",
       "</div>"
      ],
      "text/plain": [
       "   data  count  cluster\n",
       "0   -85      0        2"
      ]
     },
     "execution_count": 22,
     "metadata": {},
     "output_type": "execute_result"
    }
   ],
   "source": [
    "label0 = data_frame[labels == 0]\n",
    "label1 = data_frame[labels == 1]\n",
    "label2 = data_frame[labels == 2]\n",
    "label0.head()\n",
    "label1.head()\n",
    "label2.head()"
   ]
  },
  {
   "cell_type": "code",
   "execution_count": 23,
   "metadata": {},
   "outputs": [
    {
     "data": {
      "image/png": "[encoded data removed]",
      "text/plain": [
       "<Figure size 432x288 with 1 Axes>"
      ]
     },
     "metadata": {
      "needs_background": "light"
     },
     "output_type": "display_data"
    }
   ],
   "source": [
    "plt.scatter(label0['count'],label0['data'], color = 'blue')\n",
    "plt.scatter(label1['count'],label1['data'], color = 'black')\n",
    "plt.scatter(label2['count'],label2['data'], color = 'green')\n",
    "plt.show()"
   ]
  },
  {
   "cell_type": "code",
   "execution_count": null,
   "metadata": {},
   "outputs": [],
   "source": []
  }
 ],
 "metadata": {
  "kernelspec": {
   "display_name": "Python 3",
   "language": "python",
   "name": "python3"
  },
  "language_info": {
   "codemirror_mode": {
    "name": "ipython",
    "version": 3
   },
   "file_extension": ".py",
   "mimetype": "text/x-python",
   "name": "python",
   "nbconvert_exporter": "python",
   "pygments_lexer": "ipython3",
   "version": "3.6.5"
  }
 },
 "nbformat": 4,
 "nbformat_minor": 4
}
